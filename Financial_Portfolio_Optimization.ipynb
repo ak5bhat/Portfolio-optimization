{
  "nbformat": 4,
  "nbformat_minor": 0,
  "metadata": {
    "colab": {
      "name": "Portfolio Optimization.ipynb",
      "provenance": [],
      "collapsed_sections": []
    },
    "kernelspec": {
      "name": "python3",
      "display_name": "Python 3"
    },
    "language_info": {
      "name": "python"
    }
  },
  "cells": [
    {
      "cell_type": "markdown",
      "metadata": {
        "id": "DxsC84c_GyWo"
      },
      "source": [
        "This program attempts to optimize a users portfolio using the Efficient frontier"
      ]
    },
    {
      "cell_type": "code",
      "metadata": {
        "id": "p6w0EvJKG5ol"
      },
      "source": [
        "#Import the python libraries\n",
        "from pandas_datareader import data as web\n",
        "import pandas as pd\n",
        "import numpy as np\n",
        "from datetime import datetime\n",
        "import matplotlib.pyplot as plt\n",
        "\n",
        "plt.style.use('fivethirtyeight')"
      ],
      "execution_count": 1,
      "outputs": []
    },
    {
      "cell_type": "code",
      "metadata": {
        "id": "eVlNEjnXJvgM"
      },
      "source": [
        "#Get the stock symbols/ tickers in the portfolio\n",
        "#FAANG\n",
        "assets = ['FB','AMZN','AAPL','NFLX','GOOG']\n"
      ],
      "execution_count": 2,
      "outputs": []
    },
    {
      "cell_type": "code",
      "metadata": {
        "id": "5txDB0IiKRDi"
      },
      "source": [
        "#Assign weights to the stocks\n",
        "weights = np.array([0.2, 0.2, 0.2, 0.2, 0.2])"
      ],
      "execution_count": 3,
      "outputs": []
    },
    {
      "cell_type": "code",
      "metadata": {
        "id": "JGlUT3c0K4Uj"
      },
      "source": [
        "#Get the stocks / portfolio starting date\n",
        "stockStartDate = '2013-01-01'"
      ],
      "execution_count": 4,
      "outputs": []
    },
    {
      "cell_type": "code",
      "metadata": {
        "colab": {
          "base_uri": "https://localhost:8080/",
          "height": 35
        },
        "id": "28J-TUydLQuL",
        "outputId": "6209ca56-4ad2-43bb-c44a-afbfd0afe5da"
      },
      "source": [
        "#Get the stocks ending date (today)\n",
        "today = datetime.today().strftime('%Y-%m-%d')\n",
        "today"
      ],
      "execution_count": 5,
      "outputs": [
        {
          "output_type": "execute_result",
          "data": {
            "application/vnd.google.colaboratory.intrinsic+json": {
              "type": "string"
            },
            "text/plain": [
              "'2021-11-30'"
            ]
          },
          "metadata": {},
          "execution_count": 5
        }
      ]
    },
    {
      "cell_type": "code",
      "metadata": {
        "colab": {
          "base_uri": "https://localhost:8080/"
        },
        "id": "eCBvvzLbTWOq",
        "outputId": "60d8b496-1d02-4a67-f381-e32f555612b9"
      },
      "source": [
        "pip install pandas_datareader --upgrade"
      ],
      "execution_count": 6,
      "outputs": [
        {
          "output_type": "stream",
          "name": "stdout",
          "text": [
            "Requirement already satisfied: pandas_datareader in /usr/local/lib/python3.7/dist-packages (0.10.0)\n",
            "Requirement already satisfied: requests>=2.19.0 in /usr/local/lib/python3.7/dist-packages (from pandas_datareader) (2.23.0)\n",
            "Requirement already satisfied: lxml in /usr/local/lib/python3.7/dist-packages (from pandas_datareader) (4.2.6)\n",
            "Requirement already satisfied: pandas>=0.23 in /usr/local/lib/python3.7/dist-packages (from pandas_datareader) (1.1.5)\n",
            "Requirement already satisfied: numpy>=1.15.4 in /usr/local/lib/python3.7/dist-packages (from pandas>=0.23->pandas_datareader) (1.19.5)\n",
            "Requirement already satisfied: python-dateutil>=2.7.3 in /usr/local/lib/python3.7/dist-packages (from pandas>=0.23->pandas_datareader) (2.8.2)\n",
            "Requirement already satisfied: pytz>=2017.2 in /usr/local/lib/python3.7/dist-packages (from pandas>=0.23->pandas_datareader) (2018.9)\n",
            "Requirement already satisfied: six>=1.5 in /usr/local/lib/python3.7/dist-packages (from python-dateutil>=2.7.3->pandas>=0.23->pandas_datareader) (1.15.0)\n",
            "Requirement already satisfied: urllib3!=1.25.0,!=1.25.1,<1.26,>=1.21.1 in /usr/local/lib/python3.7/dist-packages (from requests>=2.19.0->pandas_datareader) (1.24.3)\n",
            "Requirement already satisfied: chardet<4,>=3.0.2 in /usr/local/lib/python3.7/dist-packages (from requests>=2.19.0->pandas_datareader) (3.0.4)\n",
            "Requirement already satisfied: certifi>=2017.4.17 in /usr/local/lib/python3.7/dist-packages (from requests>=2.19.0->pandas_datareader) (2021.10.8)\n",
            "Requirement already satisfied: idna<3,>=2.5 in /usr/local/lib/python3.7/dist-packages (from requests>=2.19.0->pandas_datareader) (2.10)\n"
          ]
        }
      ]
    },
    {
      "cell_type": "code",
      "metadata": {
        "id": "t7GHv-TxLQl7"
      },
      "source": [
        "#Create the dataframe to store the adjusted close price of the stocks\n",
        "df = pd.DataFrame()\n",
        "\n",
        "#Store the adjusted close priceof the stock into the dataframe\n",
        "for stock in assets:\n",
        "  df[stock] = web.DataReader(stock, data_source='yahoo', start=stockStartDate, end=today)['Adj Close']"
      ],
      "execution_count": 7,
      "outputs": []
    },
    {
      "cell_type": "code",
      "metadata": {
        "colab": {
          "base_uri": "https://localhost:8080/",
          "height": 455
        },
        "id": "wIbscjr6LQfh",
        "outputId": "72d13eea-a779-431e-a44d-07fb9fe46fe7"
      },
      "source": [
        "#Show the df\n",
        "df"
      ],
      "execution_count": 8,
      "outputs": [
        {
          "output_type": "execute_result",
          "data": {
            "text/html": [
              "<div>\n",
              "<style scoped>\n",
              "    .dataframe tbody tr th:only-of-type {\n",
              "        vertical-align: middle;\n",
              "    }\n",
              "\n",
              "    .dataframe tbody tr th {\n",
              "        vertical-align: top;\n",
              "    }\n",
              "\n",
              "    .dataframe thead th {\n",
              "        text-align: right;\n",
              "    }\n",
              "</style>\n",
              "<table border=\"1\" class=\"dataframe\">\n",
              "  <thead>\n",
              "    <tr style=\"text-align: right;\">\n",
              "      <th></th>\n",
              "      <th>FB</th>\n",
              "      <th>AMZN</th>\n",
              "      <th>AAPL</th>\n",
              "      <th>NFLX</th>\n",
              "      <th>GOOG</th>\n",
              "    </tr>\n",
              "    <tr>\n",
              "      <th>Date</th>\n",
              "      <th></th>\n",
              "      <th></th>\n",
              "      <th></th>\n",
              "      <th></th>\n",
              "      <th></th>\n",
              "    </tr>\n",
              "  </thead>\n",
              "  <tbody>\n",
              "    <tr>\n",
              "      <th>2013-01-02</th>\n",
              "      <td>28.000000</td>\n",
              "      <td>257.309998</td>\n",
              "      <td>16.960690</td>\n",
              "      <td>13.144286</td>\n",
              "      <td>360.274597</td>\n",
              "    </tr>\n",
              "    <tr>\n",
              "      <th>2013-01-03</th>\n",
              "      <td>27.770000</td>\n",
              "      <td>258.480011</td>\n",
              "      <td>16.746607</td>\n",
              "      <td>13.798571</td>\n",
              "      <td>360.483826</td>\n",
              "    </tr>\n",
              "    <tr>\n",
              "      <th>2013-01-04</th>\n",
              "      <td>28.760000</td>\n",
              "      <td>259.149994</td>\n",
              "      <td>16.280140</td>\n",
              "      <td>13.711429</td>\n",
              "      <td>367.607117</td>\n",
              "    </tr>\n",
              "    <tr>\n",
              "      <th>2013-01-07</th>\n",
              "      <td>29.420000</td>\n",
              "      <td>268.459991</td>\n",
              "      <td>16.184376</td>\n",
              "      <td>14.171429</td>\n",
              "      <td>366.003143</td>\n",
              "    </tr>\n",
              "    <tr>\n",
              "      <th>2013-01-08</th>\n",
              "      <td>29.059999</td>\n",
              "      <td>266.380005</td>\n",
              "      <td>16.227932</td>\n",
              "      <td>13.880000</td>\n",
              "      <td>365.280823</td>\n",
              "    </tr>\n",
              "    <tr>\n",
              "      <th>...</th>\n",
              "      <td>...</td>\n",
              "      <td>...</td>\n",
              "      <td>...</td>\n",
              "      <td>...</td>\n",
              "      <td>...</td>\n",
              "    </tr>\n",
              "    <tr>\n",
              "      <th>2021-11-22</th>\n",
              "      <td>341.010010</td>\n",
              "      <td>3572.570068</td>\n",
              "      <td>161.020004</td>\n",
              "      <td>659.200012</td>\n",
              "      <td>2941.570068</td>\n",
              "    </tr>\n",
              "    <tr>\n",
              "      <th>2021-11-23</th>\n",
              "      <td>337.250000</td>\n",
              "      <td>3580.040039</td>\n",
              "      <td>161.410004</td>\n",
              "      <td>654.059998</td>\n",
              "      <td>2935.139893</td>\n",
              "    </tr>\n",
              "    <tr>\n",
              "      <th>2021-11-24</th>\n",
              "      <td>341.059998</td>\n",
              "      <td>3580.409912</td>\n",
              "      <td>161.940002</td>\n",
              "      <td>658.289978</td>\n",
              "      <td>2934.350098</td>\n",
              "    </tr>\n",
              "    <tr>\n",
              "      <th>2021-11-26</th>\n",
              "      <td>333.119995</td>\n",
              "      <td>3504.560059</td>\n",
              "      <td>156.809998</td>\n",
              "      <td>665.640015</td>\n",
              "      <td>2856.120117</td>\n",
              "    </tr>\n",
              "    <tr>\n",
              "      <th>2021-11-29</th>\n",
              "      <td>338.029999</td>\n",
              "      <td>3561.570068</td>\n",
              "      <td>160.240005</td>\n",
              "      <td>663.840027</td>\n",
              "      <td>2922.280029</td>\n",
              "    </tr>\n",
              "  </tbody>\n",
              "</table>\n",
              "<p>2244 rows × 5 columns</p>\n",
              "</div>"
            ],
            "text/plain": [
              "                    FB         AMZN        AAPL        NFLX         GOOG\n",
              "Date                                                                    \n",
              "2013-01-02   28.000000   257.309998   16.960690   13.144286   360.274597\n",
              "2013-01-03   27.770000   258.480011   16.746607   13.798571   360.483826\n",
              "2013-01-04   28.760000   259.149994   16.280140   13.711429   367.607117\n",
              "2013-01-07   29.420000   268.459991   16.184376   14.171429   366.003143\n",
              "2013-01-08   29.059999   266.380005   16.227932   13.880000   365.280823\n",
              "...                ...          ...         ...         ...          ...\n",
              "2021-11-22  341.010010  3572.570068  161.020004  659.200012  2941.570068\n",
              "2021-11-23  337.250000  3580.040039  161.410004  654.059998  2935.139893\n",
              "2021-11-24  341.059998  3580.409912  161.940002  658.289978  2934.350098\n",
              "2021-11-26  333.119995  3504.560059  156.809998  665.640015  2856.120117\n",
              "2021-11-29  338.029999  3561.570068  160.240005  663.840027  2922.280029\n",
              "\n",
              "[2244 rows x 5 columns]"
            ]
          },
          "metadata": {},
          "execution_count": 8
        }
      ]
    },
    {
      "cell_type": "code",
      "metadata": {
        "colab": {
          "base_uri": "https://localhost:8080/",
          "height": 318
        },
        "id": "JrlqfMlPLRjD",
        "outputId": "adeae8f6-ea78-444a-a29a-a04881d0bd72"
      },
      "source": [
        "#Visually show the stock/portfolio\n",
        "title = 'Portfolio Adj. Close Price History'\n",
        "\n",
        "#Get the stocks\n",
        "my_stocks = df\n",
        "\n",
        "#Create and plot the graph\n",
        "for c in my_stocks.columns.values:\n",
        "  plt.plot(my_stocks[c], label = c)\n",
        "\n",
        "plt.title(title)\n",
        "plt.xlabel('Date', fontsize =18)\n",
        "plt.ylabel('Adj. Price USD ($)',fontsize= 18)\n",
        "plt.legend(my_stocks.columns.values, loc= 'upper left')\n",
        "plt.show"
      ],
      "execution_count": 9,
      "outputs": [
        {
          "output_type": "execute_result",
          "data": {
            "text/plain": [
              "<function matplotlib.pyplot.show>"
            ]
          },
          "metadata": {},
          "execution_count": 9
        },
        {
          "output_type": "display_data",
          "data": {
            "image/png": "[encoded data removed]",
            "text/plain": [
              "<Figure size 432x288 with 1 Axes>"
            ]
          },
          "metadata": {
            "needs_background": "light"
          }
        }
      ]
    },
    {
      "cell_type": "code",
      "metadata": {
        "colab": {
          "base_uri": "https://localhost:8080/",
          "height": 455
        },
        "id": "hCgm4-FbLRg8",
        "outputId": "83c22235-8c7c-40c4-f27f-fbadaa7de4ae"
      },
      "source": [
        "#Show the daily simple return\n",
        "returns = df.pct_change()\n",
        "returns"
      ],
      "execution_count": 10,
      "outputs": [
        {
          "output_type": "execute_result",
          "data": {
            "text/html": [
              "<div>\n",
              "<style scoped>\n",
              "    .dataframe tbody tr th:only-of-type {\n",
              "        vertical-align: middle;\n",
              "    }\n",
              "\n",
              "    .dataframe tbody tr th {\n",
              "        vertical-align: top;\n",
              "    }\n",
              "\n",
              "    .dataframe thead th {\n",
              "        text-align: right;\n",
              "    }\n",
              "</style>\n",
              "<table border=\"1\" class=\"dataframe\">\n",
              "  <thead>\n",
              "    <tr style=\"text-align: right;\">\n",
              "      <th></th>\n",
              "      <th>FB</th>\n",
              "      <th>AMZN</th>\n",
              "      <th>AAPL</th>\n",
              "      <th>NFLX</th>\n",
              "      <th>GOOG</th>\n",
              "    </tr>\n",
              "    <tr>\n",
              "      <th>Date</th>\n",
              "      <th></th>\n",
              "      <th></th>\n",
              "      <th></th>\n",
              "      <th></th>\n",
              "      <th></th>\n",
              "    </tr>\n",
              "  </thead>\n",
              "  <tbody>\n",
              "    <tr>\n",
              "      <th>2013-01-02</th>\n",
              "      <td>NaN</td>\n",
              "      <td>NaN</td>\n",
              "      <td>NaN</td>\n",
              "      <td>NaN</td>\n",
              "      <td>NaN</td>\n",
              "    </tr>\n",
              "    <tr>\n",
              "      <th>2013-01-03</th>\n",
              "      <td>-0.008214</td>\n",
              "      <td>0.004547</td>\n",
              "      <td>-0.012622</td>\n",
              "      <td>0.049777</td>\n",
              "      <td>0.000581</td>\n",
              "    </tr>\n",
              "    <tr>\n",
              "      <th>2013-01-04</th>\n",
              "      <td>0.035650</td>\n",
              "      <td>0.002592</td>\n",
              "      <td>-0.027854</td>\n",
              "      <td>-0.006315</td>\n",
              "      <td>0.019760</td>\n",
              "    </tr>\n",
              "    <tr>\n",
              "      <th>2013-01-07</th>\n",
              "      <td>0.022949</td>\n",
              "      <td>0.035925</td>\n",
              "      <td>-0.005882</td>\n",
              "      <td>0.033549</td>\n",
              "      <td>-0.004363</td>\n",
              "    </tr>\n",
              "    <tr>\n",
              "      <th>2013-01-08</th>\n",
              "      <td>-0.012237</td>\n",
              "      <td>-0.007748</td>\n",
              "      <td>0.002691</td>\n",
              "      <td>-0.020565</td>\n",
              "      <td>-0.001974</td>\n",
              "    </tr>\n",
              "    <tr>\n",
              "      <th>...</th>\n",
              "      <td>...</td>\n",
              "      <td>...</td>\n",
              "      <td>...</td>\n",
              "      <td>...</td>\n",
              "      <td>...</td>\n",
              "    </tr>\n",
              "    <tr>\n",
              "      <th>2021-11-22</th>\n",
              "      <td>-0.012424</td>\n",
              "      <td>-0.028287</td>\n",
              "      <td>0.002927</td>\n",
              "      <td>-0.028874</td>\n",
              "      <td>-0.019166</td>\n",
              "    </tr>\n",
              "    <tr>\n",
              "      <th>2021-11-23</th>\n",
              "      <td>-0.011026</td>\n",
              "      <td>0.002091</td>\n",
              "      <td>0.002422</td>\n",
              "      <td>-0.007797</td>\n",
              "      <td>-0.002186</td>\n",
              "    </tr>\n",
              "    <tr>\n",
              "      <th>2021-11-24</th>\n",
              "      <td>0.011297</td>\n",
              "      <td>0.000103</td>\n",
              "      <td>0.003284</td>\n",
              "      <td>0.006467</td>\n",
              "      <td>-0.000269</td>\n",
              "    </tr>\n",
              "    <tr>\n",
              "      <th>2021-11-26</th>\n",
              "      <td>-0.023280</td>\n",
              "      <td>-0.021185</td>\n",
              "      <td>-0.031678</td>\n",
              "      <td>0.011165</td>\n",
              "      <td>-0.026660</td>\n",
              "    </tr>\n",
              "    <tr>\n",
              "      <th>2021-11-29</th>\n",
              "      <td>0.014739</td>\n",
              "      <td>0.016267</td>\n",
              "      <td>0.021874</td>\n",
              "      <td>-0.002704</td>\n",
              "      <td>0.023164</td>\n",
              "    </tr>\n",
              "  </tbody>\n",
              "</table>\n",
              "<p>2244 rows × 5 columns</p>\n",
              "</div>"
            ],
            "text/plain": [
              "                  FB      AMZN      AAPL      NFLX      GOOG\n",
              "Date                                                        \n",
              "2013-01-02       NaN       NaN       NaN       NaN       NaN\n",
              "2013-01-03 -0.008214  0.004547 -0.012622  0.049777  0.000581\n",
              "2013-01-04  0.035650  0.002592 -0.027854 -0.006315  0.019760\n",
              "2013-01-07  0.022949  0.035925 -0.005882  0.033549 -0.004363\n",
              "2013-01-08 -0.012237 -0.007748  0.002691 -0.020565 -0.001974\n",
              "...              ...       ...       ...       ...       ...\n",
              "2021-11-22 -0.012424 -0.028287  0.002927 -0.028874 -0.019166\n",
              "2021-11-23 -0.011026  0.002091  0.002422 -0.007797 -0.002186\n",
              "2021-11-24  0.011297  0.000103  0.003284  0.006467 -0.000269\n",
              "2021-11-26 -0.023280 -0.021185 -0.031678  0.011165 -0.026660\n",
              "2021-11-29  0.014739  0.016267  0.021874 -0.002704  0.023164\n",
              "\n",
              "[2244 rows x 5 columns]"
            ]
          },
          "metadata": {},
          "execution_count": 10
        }
      ]
    },
    {
      "cell_type": "code",
      "metadata": {
        "colab": {
          "base_uri": "https://localhost:8080/",
          "height": 206
        },
        "id": "uBmcD8AWWwDz",
        "outputId": "80dfae31-2a41-41e7-e2d5-75f2ed571fdb"
      },
      "source": [
        "#Create and show the annualized covariance matrix\n",
        "cov_matrix_annual = returns.cov() * 252\n",
        "cov_matrix_annual"
      ],
      "execution_count": 11,
      "outputs": [
        {
          "output_type": "execute_result",
          "data": {
            "text/html": [
              "<div>\n",
              "<style scoped>\n",
              "    .dataframe tbody tr th:only-of-type {\n",
              "        vertical-align: middle;\n",
              "    }\n",
              "\n",
              "    .dataframe tbody tr th {\n",
              "        vertical-align: top;\n",
              "    }\n",
              "\n",
              "    .dataframe thead th {\n",
              "        text-align: right;\n",
              "    }\n",
              "</style>\n",
              "<table border=\"1\" class=\"dataframe\">\n",
              "  <thead>\n",
              "    <tr style=\"text-align: right;\">\n",
              "      <th></th>\n",
              "      <th>FB</th>\n",
              "      <th>AMZN</th>\n",
              "      <th>AAPL</th>\n",
              "      <th>NFLX</th>\n",
              "      <th>GOOG</th>\n",
              "    </tr>\n",
              "  </thead>\n",
              "  <tbody>\n",
              "    <tr>\n",
              "      <th>FB</th>\n",
              "      <td>0.115257</td>\n",
              "      <td>0.053090</td>\n",
              "      <td>0.044020</td>\n",
              "      <td>0.054652</td>\n",
              "      <td>0.049335</td>\n",
              "    </tr>\n",
              "    <tr>\n",
              "      <th>AMZN</th>\n",
              "      <td>0.053090</td>\n",
              "      <td>0.090532</td>\n",
              "      <td>0.039441</td>\n",
              "      <td>0.060347</td>\n",
              "      <td>0.046274</td>\n",
              "    </tr>\n",
              "    <tr>\n",
              "      <th>AAPL</th>\n",
              "      <td>0.044020</td>\n",
              "      <td>0.039441</td>\n",
              "      <td>0.079539</td>\n",
              "      <td>0.034772</td>\n",
              "      <td>0.037925</td>\n",
              "    </tr>\n",
              "    <tr>\n",
              "      <th>NFLX</th>\n",
              "      <td>0.054652</td>\n",
              "      <td>0.060347</td>\n",
              "      <td>0.034772</td>\n",
              "      <td>0.200056</td>\n",
              "      <td>0.046973</td>\n",
              "    </tr>\n",
              "    <tr>\n",
              "      <th>GOOG</th>\n",
              "      <td>0.049335</td>\n",
              "      <td>0.046274</td>\n",
              "      <td>0.037925</td>\n",
              "      <td>0.046973</td>\n",
              "      <td>0.065112</td>\n",
              "    </tr>\n",
              "  </tbody>\n",
              "</table>\n",
              "</div>"
            ],
            "text/plain": [
              "            FB      AMZN      AAPL      NFLX      GOOG\n",
              "FB    0.115257  0.053090  0.044020  0.054652  0.049335\n",
              "AMZN  0.053090  0.090532  0.039441  0.060347  0.046274\n",
              "AAPL  0.044020  0.039441  0.079539  0.034772  0.037925\n",
              "NFLX  0.054652  0.060347  0.034772  0.200056  0.046973\n",
              "GOOG  0.049335  0.046274  0.037925  0.046973  0.065112"
            ]
          },
          "metadata": {},
          "execution_count": 11
        }
      ]
    },
    {
      "cell_type": "code",
      "metadata": {
        "id": "1hzFxryKWv-0",
        "colab": {
          "base_uri": "https://localhost:8080/"
        },
        "outputId": "e7626b41-1521-440d-daa1-c5b7d6796b45"
      },
      "source": [
        "#Calculate the portfolio variance\n",
        "port_variance = np.dot(weights.T, np.dot(cov_matrix_annual, weights))\n",
        "port_variance"
      ],
      "execution_count": 12,
      "outputs": [
        {
          "output_type": "execute_result",
          "data": {
            "text/plain": [
              "0.05936612793902773"
            ]
          },
          "metadata": {},
          "execution_count": 12
        }
      ]
    },
    {
      "cell_type": "code",
      "metadata": {
        "id": "qMIazkBZWv0a",
        "colab": {
          "base_uri": "https://localhost:8080/"
        },
        "outputId": "71fc414f-8146-436e-83a9-2465ffbdbcfe"
      },
      "source": [
        "# Calculate the portfolio volatility aka std. deviation\n",
        "port_volatility = np.sqrt(port_variance)\n",
        "port_volatility"
      ],
      "execution_count": 13,
      "outputs": [
        {
          "output_type": "execute_result",
          "data": {
            "text/plain": [
              "0.24365165285511142"
            ]
          },
          "metadata": {},
          "execution_count": 13
        }
      ]
    },
    {
      "cell_type": "code",
      "metadata": {
        "id": "CDlkcd-HLQUz",
        "colab": {
          "base_uri": "https://localhost:8080/"
        },
        "outputId": "a51341e3-59e1-46ba-ef75-962656fee47a"
      },
      "source": [
        "# Calculate the annual portfolio return\n",
        "portfolioSimpleAnnualReturn = np.sum(returns.mean() * weights) * 252\n",
        "portfolioSimpleAnnualReturn"
      ],
      "execution_count": 14,
      "outputs": [
        {
          "output_type": "execute_result",
          "data": {
            "text/plain": [
              "0.3549900501001559"
            ]
          },
          "metadata": {},
          "execution_count": 14
        }
      ]
    },
    {
      "cell_type": "code",
      "metadata": {
        "colab": {
          "base_uri": "https://localhost:8080/"
        },
        "id": "xSkUeXZ8uUuv",
        "outputId": "f6c2dfc4-65a8-42c9-f223-d12e2cfc9860"
      },
      "source": [
        "#Show the expected annual return, volatility(risk), and variance\n",
        "\n",
        "percent_var = str( round (port_variance, 2)* 100) + '%'\n",
        "percent_vols = str(round (port_volatility, 2)* 100) + '%'\n",
        "percent_ret = str( round (portfolioSimpleAnnualReturn, 2)* 100)+ '%'\n",
        "\n",
        "print('Expected annual return: '+ percent_ret)\n",
        "print('Annual volaitlity / risk: '+ percent_vols)\n",
        "print('Annual variance: '+ percent_var)"
      ],
      "execution_count": 15,
      "outputs": [
        {
          "output_type": "stream",
          "name": "stdout",
          "text": [
            "Expected annual return: 35.0%\n",
            "Annual volaitlity / risk: 24.0%\n",
            "Annual variance: 6.0%\n"
          ]
        }
      ]
    },
    {
      "cell_type": "code",
      "metadata": {
        "colab": {
          "base_uri": "https://localhost:8080/"
        },
        "id": "5y58XR5Vupkz",
        "outputId": "0c324b99-e333-4c25-a010-e6a42a8fa9f9"
      },
      "source": [
        "pip install PyPortfolioOpt"
      ],
      "execution_count": 16,
      "outputs": [
        {
          "output_type": "stream",
          "name": "stdout",
          "text": [
            "Collecting PyPortfolioOpt\n",
            "  Downloading PyPortfolioOpt-1.5.1-py3-none-any.whl (61 kB)\n",
            "\u001b[?25l\r\u001b[K     |█████▍                          | 10 kB 23.9 MB/s eta 0:00:01\r\u001b[K     |██████████▊                     | 20 kB 31.3 MB/s eta 0:00:01\r\u001b[K     |████████████████                | 30 kB 27.5 MB/s eta 0:00:01\r\u001b[K     |█████████████████████▍          | 40 kB 20.9 MB/s eta 0:00:01\r\u001b[K     |██████████████████████████▊     | 51 kB 10.2 MB/s eta 0:00:01\r\u001b[K     |████████████████████████████████| 61 kB 4.2 MB/s \n",
            "\u001b[?25hRequirement already satisfied: numpy<2.0,>=1.12 in /usr/local/lib/python3.7/dist-packages (from PyPortfolioOpt) (1.19.5)\n",
            "Collecting cvxpy<2.0.0,>=1.1.10\n",
            "  Downloading cvxpy-1.1.17-cp37-cp37m-manylinux_2_24_x86_64.whl (2.8 MB)\n",
            "\u001b[K     |████████████████████████████████| 2.8 MB 19.7 MB/s \n",
            "\u001b[?25hRequirement already satisfied: scipy<2.0,>=1.3 in /usr/local/lib/python3.7/dist-packages (from PyPortfolioOpt) (1.4.1)\n",
            "Requirement already satisfied: pandas>=0.19 in /usr/local/lib/python3.7/dist-packages (from PyPortfolioOpt) (1.1.5)\n",
            "Requirement already satisfied: osqp>=0.4.1 in /usr/local/lib/python3.7/dist-packages (from cvxpy<2.0.0,>=1.1.10->PyPortfolioOpt) (0.6.2.post0)\n",
            "Requirement already satisfied: scs>=1.1.6 in /usr/local/lib/python3.7/dist-packages (from cvxpy<2.0.0,>=1.1.10->PyPortfolioOpt) (2.1.4)\n",
            "Requirement already satisfied: ecos>=2 in /usr/local/lib/python3.7/dist-packages (from cvxpy<2.0.0,>=1.1.10->PyPortfolioOpt) (2.0.7.post1)\n",
            "Requirement already satisfied: qdldl in /usr/local/lib/python3.7/dist-packages (from osqp>=0.4.1->cvxpy<2.0.0,>=1.1.10->PyPortfolioOpt) (0.1.5.post0)\n",
            "Requirement already satisfied: pytz>=2017.2 in /usr/local/lib/python3.7/dist-packages (from pandas>=0.19->PyPortfolioOpt) (2018.9)\n",
            "Requirement already satisfied: python-dateutil>=2.7.3 in /usr/local/lib/python3.7/dist-packages (from pandas>=0.19->PyPortfolioOpt) (2.8.2)\n",
            "Requirement already satisfied: six>=1.5 in /usr/local/lib/python3.7/dist-packages (from python-dateutil>=2.7.3->pandas>=0.19->PyPortfolioOpt) (1.15.0)\n",
            "Installing collected packages: cvxpy, PyPortfolioOpt\n",
            "  Attempting uninstall: cvxpy\n",
            "    Found existing installation: cvxpy 1.0.31\n",
            "    Uninstalling cvxpy-1.0.31:\n",
            "      Successfully uninstalled cvxpy-1.0.31\n",
            "Successfully installed PyPortfolioOpt-1.5.1 cvxpy-1.1.17\n"
          ]
        }
      ]
    },
    {
      "cell_type": "code",
      "metadata": {
        "id": "TfuCu7z2wloi"
      },
      "source": [
        "from pypfopt.efficient_frontier import EfficientFrontier\n",
        "from pypfopt import risk_models\n",
        "from pypfopt import expected_returns"
      ],
      "execution_count": 17,
      "outputs": []
    },
    {
      "cell_type": "markdown",
      "metadata": {
        "id": "BBHYRAb-xCn8"
      },
      "source": [
        "Portfolio Optimization"
      ]
    },
    {
      "cell_type": "code",
      "metadata": {
        "colab": {
          "base_uri": "https://localhost:8080/"
        },
        "id": "F8Kc9FxKwlk7",
        "outputId": "033284bb-538a-46b4-958d-b480af71ccda"
      },
      "source": [
        "#Calculate the expected returns and the annualised sample covariance matrix of asset returns\n",
        "mu =  expected_returns.mean_historical_return(df)\n",
        "S = risk_models.sample_cov(df)\n",
        "\n",
        "#optimize for max sharpe ratio\n",
        "ef = EfficientFrontier(mu, S)\n",
        "weights = ef.max_sharpe()\n",
        "cleaned_weights = ef.clean_weights()\n",
        "print(cleaned_weights)\n",
        "ef.portfolio_performance(verbose = True)"
      ],
      "execution_count": 18,
      "outputs": [
        {
          "output_type": "stream",
          "name": "stdout",
          "text": [
            "OrderedDict([('FB', 0.08679), ('AMZN', 0.23363), ('AAPL', 0.2838), ('NFLX', 0.33805), ('GOOG', 0.05774)])\n",
            "Expected annual return: 39.2%\n",
            "Annual volatility: 26.3%\n",
            "Sharpe Ratio: 1.42\n"
          ]
        },
        {
          "output_type": "execute_result",
          "data": {
            "text/plain": [
              "(0.39219411941375215, 0.26282277005326854, 1.4161410723215357)"
            ]
          },
          "metadata": {},
          "execution_count": 18
        }
      ]
    },
    {
      "cell_type": "code",
      "metadata": {
        "colab": {
          "base_uri": "https://localhost:8080/"
        },
        "id": "YgL_ka0NupZ2",
        "outputId": "8916f111-64fe-4d35-86e4-6a4a89d6e15e"
      },
      "source": [
        "0.08864+0.2346+0.28237+0.34477+0.04963"
      ],
      "execution_count": 19,
      "outputs": [
        {
          "output_type": "execute_result",
          "data": {
            "text/plain": [
              "1.00001"
            ]
          },
          "metadata": {},
          "execution_count": 19
        }
      ]
    },
    {
      "cell_type": "code",
      "metadata": {
        "colab": {
          "base_uri": "https://localhost:8080/"
        },
        "id": "EPoBK-2FupWV",
        "outputId": "5899b03a-15b3-486e-8f68-2491fb525524"
      },
      "source": [
        "#Get the discrete allocation of each share per stock\n",
        "from pypfopt.discrete_allocation import DiscreteAllocation, get_latest_prices\n",
        "\n",
        "latest_prices = get_latest_prices(df)\n",
        "weights = cleaned_weights\n",
        "da = DiscreteAllocation(weights, latest_prices, total_portfolio_value = 20000)\n",
        "\n",
        "allocation, leftover = da.lp_portfolio()\n",
        "print('Discrete allocation:',allocation)\n",
        "print('Funds remaining: ${:.2f}'.format(leftover))"
      ],
      "execution_count": 20,
      "outputs": [
        {
          "output_type": "stream",
          "name": "stdout",
          "text": [
            "Discrete allocation: {'FB': 5, 'AMZN': 1, 'AAPL': 32, 'NFLX': 10, 'GOOG': 1}\n",
            "Funds remaining: $59.92\n"
          ]
        }
      ]
    },
    {
      "cell_type": "markdown",
      "metadata": {
        "id": "2nszumQvGwTC"
      },
      "source": [
        "Thank you"
      ]
    }
  ]
}